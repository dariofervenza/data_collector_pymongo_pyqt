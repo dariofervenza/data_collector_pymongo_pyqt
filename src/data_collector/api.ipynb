{
 "cells": [
  {
   "cell_type": "code",
   "execution_count": 3,
   "id": "3d5461d1",
   "metadata": {},
   "outputs": [
    {
     "data": {
      "text/plain": [
       "0"
      ]
     },
     "execution_count": 3,
     "metadata": {},
     "output_type": "execute_result"
    }
   ],
   "source": [
    "import sys\n",
    "import subprocess\n",
    "# implement pip as a subprocess:\n",
    "subprocess.check_call([sys.executable, '-m', 'pip', 'install', 'pymongo'])"
   ]
  },
  {
   "cell_type": "code",
   "execution_count": 4,
   "id": "6b1f20ec",
   "metadata": {},
   "outputs": [],
   "source": [
    "import requests\n",
    "import pymongo"
   ]
  },
  {
   "cell_type": "code",
   "execution_count": 3,
   "id": "b89448e4",
   "metadata": {},
   "outputs": [],
   "source": [
    "date_format = \"%Y-%m-%d %H:%M\"\n",
    "params = {\n",
    "    'access_key': 'aaaaaaaaaaaaaaaaaa3',\n",
    "    'query': \"Vigo\"\n",
    "}\n",
    "api_result = requests.get(\n",
    "    'http://api.weatherstack.com/current',\n",
    "    params\n",
    "    )\n",
    "api_response = api_result.json()"
   ]
  },
  {
   "cell_type": "code",
   "execution_count": 4,
   "id": "e4cd147d",
   "metadata": {},
   "outputs": [
    {
     "name": "stdout",
     "output_type": "stream",
     "text": [
      "{'request': {'type': 'City', 'query': 'Vigo, Spain', 'language': 'en', 'unit': 'm'}, 'location': {'name': 'Vigo', 'country': 'Spain', 'region': 'Galicia', 'lat': '42.233', 'lon': '-8.717', 'timezone_id': 'Europe/Madrid', 'localtime': '2023-12-03 11:38', 'localtime_epoch': 1701603480, 'utc_offset': '1.0'}, 'current': {'observation_time': '10:38 AM', 'temperature': 8, 'weather_code': 116, 'weather_icons': ['https://cdn.worldweatheronline.com/images/wsymbols01_png_64/wsymbol_0002_sunny_intervals.png'], 'weather_descriptions': ['Partly cloudy'], 'wind_speed': 17, 'wind_degree': 180, 'wind_dir': 'S', 'pressure': 1018, 'precip': 0, 'humidity': 87, 'cloudcover': 75, 'feelslike': 5, 'uv_index': 3, 'visibility': 10, 'is_day': 'yes'}}\n"
     ]
    }
   ],
   "source": [
    "print(api_response)"
   ]
  },
  {
   "cell_type": "code",
   "execution_count": 5,
   "id": "402c9754",
   "metadata": {},
   "outputs": [
    {
     "name": "stdout",
     "output_type": "stream",
     "text": [
      "<class 'dict'>\n"
     ]
    }
   ],
   "source": [
    "print(type(api_response))"
   ]
  },
  {
   "cell_type": "code",
   "execution_count": 5,
   "id": "8e1340a0",
   "metadata": {},
   "outputs": [],
   "source": [
    "connection_string = \"mongodb://localhost:27017/\"\n",
    "my_client = pymongo.MongoClient(connection_string)\n",
    "my_db = my_client[\"my_app_db\"]\n",
    "my_col = my_db[\"api_data\"]"
   ]
  },
  {
   "cell_type": "code",
   "execution_count": 6,
   "id": "f8f521c7",
   "metadata": {},
   "outputs": [
    {
     "name": "stdout",
     "output_type": "stream",
     "text": [
      "{'_id': ObjectId('656c5db34c278ee1e50461f5'), 'request': {'type': 'City', 'query': 'Vigo, Spain', 'language': 'en', 'unit': 'm'}, 'location': {'name': 'Vigo', 'country': 'Spain', 'region': 'Galicia', 'lat': '42.233', 'lon': '-8.717', 'timezone_id': 'Europe/Madrid', 'localtime': '2023-12-03 11:51', 'localtime_epoch': 1701604260, 'utc_offset': '1.0'}, 'current': {'observation_time': '10:51 AM', 'temperature': 8, 'weather_code': 116, 'weather_icons': ['https://cdn.worldweatheronline.com/images/wsymbols01_png_64/wsymbol_0002_sunny_intervals.png'], 'weather_descriptions': ['Partly cloudy'], 'wind_speed': 17, 'wind_degree': 180, 'wind_dir': 'S', 'pressure': 1018, 'precip': 0, 'humidity': 87, 'cloudcover': 25, 'feelslike': 5, 'uv_index': 3, 'visibility': 10, 'is_day': 'yes'}}\n",
      "{'_id': ObjectId('656c5dd2e9824b3f7a426829'), 'request': {'type': 'City', 'query': 'Vigo, Spain', 'language': 'en', 'unit': 'm'}, 'location': {'name': 'Vigo', 'country': 'Spain', 'region': 'Galicia', 'lat': '42.233', 'lon': '-8.717', 'timezone_id': 'Europe/Madrid', 'localtime': '2023-12-03 11:51', 'localtime_epoch': 1701604260, 'utc_offset': '1.0'}, 'current': {'observation_time': '10:51 AM', 'temperature': 8, 'weather_code': 116, 'weather_icons': ['https://cdn.worldweatheronline.com/images/wsymbols01_png_64/wsymbol_0002_sunny_intervals.png'], 'weather_descriptions': ['Partly cloudy'], 'wind_speed': 17, 'wind_degree': 180, 'wind_dir': 'S', 'pressure': 1018, 'precip': 0, 'humidity': 87, 'cloudcover': 25, 'feelslike': 5, 'uv_index': 3, 'visibility': 10, 'is_day': 'yes'}}\n"
     ]
    }
   ],
   "source": [
    "result = my_col.find()\n",
    "for x in result:\n",
    "    print(x)"
   ]
  },
  {
   "cell_type": "code",
   "execution_count": null,
   "id": "942579cc",
   "metadata": {},
   "outputs": [],
   "source": []
  }
 ],
 "metadata": {
  "kernelspec": {
   "display_name": "Python 3 (ipykernel)",
   "language": "python",
   "name": "python3"
  },
  "language_info": {
   "codemirror_mode": {
    "name": "ipython",
    "version": 3
   },
   "file_extension": ".py",
   "mimetype": "text/x-python",
   "name": "python",
   "nbconvert_exporter": "python",
   "pygments_lexer": "ipython3",
   "version": "3.11.4"
  }
 },
 "nbformat": 4,
 "nbformat_minor": 5
}
